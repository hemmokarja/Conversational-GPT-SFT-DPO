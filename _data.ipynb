{
 "cells": [
  {
   "cell_type": "code",
   "execution_count": 3,
   "id": "1fbd8229",
   "metadata": {},
   "outputs": [],
   "source": [
    "from transformers import GPT2Tokenizer\n",
    "\n",
    "from src import oasst"
   ]
  },
  {
   "cell_type": "markdown",
   "id": "62344b0d",
   "metadata": {},
   "source": [
    "### Get data"
   ]
  },
  {
   "cell_type": "code",
   "execution_count": 4,
   "id": "5d49b4ca",
   "metadata": {},
   "outputs": [],
   "source": [
    "tokenizer = GPT2Tokenizer.from_pretrained(\"gpt2\")\n",
    "\n",
    "tokenizer.add_special_tokens({\n",
    "    \"additional_special_tokens\": [\"<|im_start|>\", \"<|im_end|>\"],\n",
    "    \"pad_token\": \"<|pad|>\",\n",
    "})\n",
    "\n",
    "tokenizer.im_start_token = \"<|im_start|>\"\n",
    "tokenizer.im_end_token = \"<|im_end|>\"\n",
    "\n",
    "tokenizer.im_start_token_id = tokenizer.convert_tokens_to_ids(\"<|im_start|>\")\n",
    "tokenizer.im_end_token_id = tokenizer.convert_tokens_to_ids(\"<|im_end|>\")"
   ]
  },
  {
   "cell_type": "code",
   "execution_count": 5,
   "id": "0ccfb090",
   "metadata": {},
   "outputs": [
    {
     "name": "stdout",
     "output_type": "stream",
     "text": [
      "Extracted and parsed 20147 conversations\n",
      "Extracted and parsed 1002 conversations\n"
     ]
    }
   ],
   "source": [
    "train_dataset, validation_dataset = oasst.load_oasst_dataset(\"oasst1\", tokenizer)"
   ]
  },
  {
   "cell_type": "markdown",
   "id": "54ccc045",
   "metadata": {},
   "source": [
    "### Dataloading"
   ]
  },
  {
   "cell_type": "code",
   "execution_count": 10,
   "id": "7e42a76f",
   "metadata": {},
   "outputs": [],
   "source": [
    "from torch.utils.data import DataLoader\n",
    "\n",
    "from src.trainer import Collator\n",
    "\n",
    "from pprint import pprint"
   ]
  },
  {
   "cell_type": "code",
   "execution_count": 11,
   "id": "13dddc4c",
   "metadata": {},
   "outputs": [
    {
     "name": "stdout",
     "output_type": "stream",
     "text": [
      "{'valid_mask': tensor([[1, 1, 1,  ..., 1, 1, 1],\n",
      "        [1, 1, 1,  ..., 0, 0, 0],\n",
      "        [1, 1, 1,  ..., 0, 0, 0],\n",
      "        [1, 1, 1,  ..., 0, 0, 0]]),\n",
      " 'x': tensor([[50257,  7220,   198,  ...,    30, 50258,   198],\n",
      "        [50257,  7220,   198,  ..., 50259, 50259, 50259],\n",
      "        [50257,  7220,   198,  ..., 50259, 50259, 50259],\n",
      "        [50257,  7220,   198,  ..., 50259, 50259, 50259]]),\n",
      " 'y': tensor([[-100, -100, -100,  ..., -100, -100, -100],\n",
      "        [-100, -100, -100,  ..., -100, -100, -100],\n",
      "        [-100, -100, -100,  ..., -100, -100, -100],\n",
      "        [-100, -100, -100,  ..., -100, -100, -100]])}\n"
     ]
    }
   ],
   "source": [
    "collator = Collator(tokenizer)\n",
    "\n",
    "train_loader = DataLoader(\n",
    "    train_dataset,\n",
    "    batch_size=4,\n",
    "    shuffle=True,\n",
    "    collate_fn=collator\n",
    ")\n",
    "\n",
    "for batch in train_loader:\n",
    "    pprint(batch)\n",
    "    break"
   ]
  }
 ],
 "metadata": {
  "kernelspec": {
   "display_name": "gpt2-fine-tune",
   "language": "python",
   "name": "python3"
  },
  "language_info": {
   "codemirror_mode": {
    "name": "ipython",
    "version": 3
   },
   "file_extension": ".py",
   "mimetype": "text/x-python",
   "name": "python",
   "nbconvert_exporter": "python",
   "pygments_lexer": "ipython3",
   "version": "3.11.1"
  }
 },
 "nbformat": 4,
 "nbformat_minor": 5
}
