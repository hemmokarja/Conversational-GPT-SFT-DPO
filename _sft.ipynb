{
 "cells": [
  {
   "cell_type": "code",
   "execution_count": 1,
   "id": "3f97b05f",
   "metadata": {},
   "outputs": [
    {
     "name": "stderr",
     "output_type": "stream",
     "text": [
      "/Users/hemmo.karja/Desktop/Omat/projects/GPT2-Fine-Tune/.venv/lib/python3.11/site-packages/tqdm/auto.py:21: TqdmWarning: IProgress not found. Please update jupyter and ipywidgets. See https://ipywidgets.readthedocs.io/en/stable/user_install.html\n",
      "  from .autonotebook import tqdm as notebook_tqdm\n"
     ]
    }
   ],
   "source": [
    "import logging\n",
    "\n",
    "import torch\n",
    "from transformers import GPT2Tokenizer\n",
    "\n",
    "from src import oasst, text_util\n",
    "from src.model import GPT2\n",
    "from src.trainer import Trainer, TrainerConfig\n",
    "\n",
    "logging.basicConfig(level=logging.INFO)\n",
    "\n",
    "DEVICE = torch.device(\"cuda\" if torch.cuda.is_available() else \"cpu\")"
   ]
  },
  {
   "cell_type": "code",
   "execution_count": 2,
   "id": "af2d0b56",
   "metadata": {},
   "outputs": [],
   "source": [
    "N_SAMPLES_TRAIN = 2000\n",
    "\n",
    "trainer_config = TrainerConfig(\n",
    "    batch_size=8,\n",
    "    gradient_acc_steps=1,\n",
    "    log_interval=8,\n",
    "    compile=False,\n",
    "    base_learning_rate=1e-4,\n",
    "    min_learning_rate=1e-6,\n",
    "    lr_step_size=100,\n",
    "    lr_gamma=0.75,\n",
    "    weight_decay=0.01,\n",
    "    betas=(0.9, 0.95),\n",
    "    grad_clip=1.0,\n",
    "    num_workers=0,\n",
    "    prefetch_factor=None,\n",
    "    pin_memory=False,\n",
    "    validation_samples=100,\n",
    "    validation_interval=200,\n",
    "    generate_sample_prompts=[\n",
    "        \"How do I bake a cake?\",\n",
    "        \"What are the best attractions in Rome, Italy?\",\n",
    "        \"What does an architect do?\"\n",
    "    ],\n",
    "    generate_max_tokens=200,\n",
    "    generate_temperature=1.0,\n",
    "    generate_top_k=50,\n",
    ")"
   ]
  },
  {
   "cell_type": "code",
   "execution_count": 4,
   "id": "3a360db0",
   "metadata": {},
   "outputs": [],
   "source": [
    "tokenizer = GPT2Tokenizer.from_pretrained(\"gpt2\")\n",
    "text_util.add_pad_token_to_tokenizer(tokenizer)"
   ]
  },
  {
   "cell_type": "code",
   "execution_count": 5,
   "id": "3fb297a4",
   "metadata": {},
   "outputs": [
    {
     "name": "stdout",
     "output_type": "stream",
     "text": [
      "Extracted and parsed 20147 conversations\n",
      "Extracted and parsed 1002 conversations\n"
     ]
    }
   ],
   "source": [
    "train_dataset, validation_dataset = oasst.load_oasst_dataset(\"oasst1\", tokenizer)"
   ]
  },
  {
   "cell_type": "code",
   "execution_count": 6,
   "id": "4fbdf76e",
   "metadata": {},
   "outputs": [
    {
     "name": "stderr",
     "output_type": "stream",
     "text": [
      "INFO:src.model:Initializing a pre-trained gpt2 model...\n",
      "INFO:src.model:Overriding dropout to 0.1\n",
      "INFO:src.model:Initialized GPT with 124.44 M parameters (of which 38.60 M in embeddings)\n",
      "INFO:src.model:Loading pre-trained weights from HuggingFace...\n"
     ]
    }
   ],
   "source": [
    "model = GPT2.from_pretrained(\"gpt2\", override_args={\"dropout\": 0.1})"
   ]
  },
  {
   "cell_type": "code",
   "execution_count": 7,
   "id": "da4b3b6f",
   "metadata": {},
   "outputs": [
    {
     "name": "stderr",
     "output_type": "stream",
     "text": [
      "INFO:src.model:Initialized GPT with 124.44 M parameters (of which 38.60 M in embeddings)\n"
     ]
    }
   ],
   "source": [
    "fine_tuneable = model.to_fine_tuneable()\n",
    "fine_tuneable.add_padding_token()"
   ]
  },
  {
   "cell_type": "code",
   "execution_count": 8,
   "id": "0610b6b4",
   "metadata": {},
   "outputs": [],
   "source": [
    "trainer =  Trainer(\n",
    "    trainer_config, fine_tuneable, tokenizer, train_dataset, validation_dataset, DEVICE\n",
    ")"
   ]
  },
  {
   "cell_type": "code",
   "execution_count": null,
   "id": "49f04425",
   "metadata": {},
   "outputs": [
    {
     "name": "stderr",
     "output_type": "stream",
     "text": [
      "INFO:src.trainer:Staring model training for 2000 samples...\n"
     ]
    },
    {
     "name": "stdout",
     "output_type": "stream",
     "text": [
      "🔄 iter:      0 │ 📊 samples:        8 │ 📉 loss: 94.1180 │ 📈 lr:  1.00e-04 │ ⚡    0 samples/s\n",
      "🔄 iter:      1 │ 📊 samples:       16 │ 📉 loss: 67.4277 │ 📈 lr:  1.00e-04 │ ⚡    0 samples/s\n",
      "🔄 iter:      2 │ 📊 samples:       24 │ 📉 loss: 49.0198 │ 📈 lr:  1.00e-04 │ ⚡    0 samples/s\n",
      "🔄 iter:      3 │ 📊 samples:       32 │ 📉 loss: 38.2399 │ 📈 lr:  1.00e-04 │ ⚡    0 samples/s\n",
      "🔄 iter:      4 │ 📊 samples:       40 │ 📉 loss: 31.7503 │ 📈 lr:  1.00e-04 │ ⚡    0 samples/s\n",
      "🔄 iter:      5 │ 📊 samples:       48 │ 📉 loss: 27.3478 │ 📈 lr:  1.00e-04 │ ⚡    0 samples/s\n",
      "🔄 iter:      6 │ 📊 samples:       56 │ 📉 loss: 24.0879 │ 📈 lr:  1.00e-04 │ ⚡    1 samples/s\n",
      "🔄 iter:      7 │ 📊 samples:       64 │ 📉 loss: 21.5943 │ 📈 lr:  1.00e-04 │ ⚡    0 samples/s\n",
      "🔄 iter:      8 │ 📊 samples:       72 │ 📉 loss: 10.3398 │ 📈 lr:  1.00e-04 │ ⚡    1 samples/s\n",
      "🔄 iter:      9 │ 📊 samples:       80 │ 📉 loss:  5.6349 │ 📈 lr:  1.00e-04 │ ⚡    1 samples/s\n",
      "🔄 iter:     10 │ 📊 samples:       88 │ 📉 loss:  4.5529 │ 📈 lr:  1.00e-04 │ ⚡    0 samples/s\n",
      "🔄 iter:     11 │ 📊 samples:       96 │ 📉 loss:  4.2332 │ 📈 lr:  1.00e-04 │ ⚡    0 samples/s\n",
      "🔄 iter:     12 │ 📊 samples:      104 │ 📉 loss:  3.9641 │ 📈 lr:  1.00e-04 │ ⚡    0 samples/s\n",
      "🔄 iter:     13 │ 📊 samples:      112 │ 📉 loss:  3.6780 │ 📈 lr:  7.50e-05 │ ⚡    0 samples/s\n",
      "🔄 iter:     14 │ 📊 samples:      120 │ 📉 loss:  3.4647 │ 📈 lr:  7.50e-05 │ ⚡    0 samples/s\n",
      "🔄 iter:     15 │ 📊 samples:      128 │ 📉 loss:  3.3509 │ 📈 lr:  7.50e-05 │ ⚡    1 samples/s\n",
      "🔄 iter:     16 │ 📊 samples:      136 │ 📉 loss:  3.2002 │ 📈 lr:  7.50e-05 │ ⚡    0 samples/s\n",
      "🔄 iter:     17 │ 📊 samples:      144 │ 📉 loss:  3.1241 │ 📈 lr:  7.50e-05 │ ⚡    0 samples/s\n",
      "🔄 iter:     18 │ 📊 samples:      152 │ 📉 loss:  3.0167 │ 📈 lr:  7.50e-05 │ ⚡    0 samples/s\n",
      "🔄 iter:     19 │ 📊 samples:      160 │ 📉 loss:  2.9931 │ 📈 lr:  7.50e-05 │ ⚡    0 samples/s\n",
      "🔄 iter:     20 │ 📊 samples:      168 │ 📉 loss:  2.9250 │ 📈 lr:  7.50e-05 │ ⚡    0 samples/s\n",
      "🔄 iter:     21 │ 📊 samples:      176 │ 📉 loss:  2.8772 │ 📈 lr:  7.50e-05 │ ⚡    0 samples/s\n",
      "🔄 iter:     22 │ 📊 samples:      184 │ 📉 loss:  2.9053 │ 📈 lr:  7.50e-05 │ ⚡    1 samples/s\n",
      "🔄 iter:     23 │ 📊 samples:      192 │ 📉 loss:  2.8672 │ 📈 lr:  7.50e-05 │ ⚡    1 samples/s\n",
      "🔄 iter:     24 │ 📊 samples:      200 │ 📉 loss:  2.8635 │ 📈 lr:  7.50e-05 │ ⚡    1 samples/s\n",
      "\n",
      "================================================================================\n",
      "VALIDATION RESULTS\n",
      "================================================================================\n",
      "📊 METRICS (samples seen: 200)\n",
      "----------------------------------------\n",
      "  Loss:       2.8909\n",
      "  Accuracy:   46.2%\n",
      "  Perplexity: 21.37\n",
      "\n",
      "🤖 SAMPLE COMPLETIONS\n",
      "----------------------------------------\n",
      "\n",
      "[Sample 1]\n",
      "Prompt: How do I bake a cake?\n",
      "Response: In this scenario you ask your cake bakeries to bake a cake that is ready to go into the oven and then bake it.You can bake the cake up with butter, flour and sugar. You can bake it in a small pan with butter, buttermilk and baking powder. If you use a baking powder, it will only get better with time. You can give it a quick stir, buttermilk and baking powder are important\n",
      "------------------------------\n",
      "\n",
      "[Sample 2]\n",
      "Prompt: What are the best attractions in Rome, Italy?\n",
      "Response: To help you find out what is best in Rome, your first thing to do is to visit your local tourist site to check out the attractions. They are usually located on the beautiful side of town\n",
      "you can enjoy a great Italian cuisine and drinks\n",
      "------------------------------\n",
      "\n",
      "[Sample 3]\n",
      "Prompt: What does an architect do?\n",
      "Response: I prefer to do architects only in terms of the basics of Architects. As I say, your skills have an important impact in building efficient buildings. As architects you should get skilled, but not necessarily experienced, in the construction.  You should find success in building efficient buildings like the ones in the above videos, without needing an expert architect and without a budget!STANDARD\n",
      "\n",
      "================================================================================\n",
      "\n",
      "🔄 iter:     25 │ 📊 samples:      208 │ 📉 loss:  2.9545 │ 📈 lr:  5.63e-05 │ ⚡    0 samples/s\n",
      "🔄 iter:     26 │ 📊 samples:      216 │ 📉 loss:  2.9508 │ 📈 lr:  5.63e-05 │ ⚡    1 samples/s\n",
      "🔄 iter:     27 │ 📊 samples:      224 │ 📉 loss:  2.9127 │ 📈 lr:  5.63e-05 │ ⚡    1 samples/s\n",
      "🔄 iter:     28 │ 📊 samples:      232 │ 📉 loss:  2.8665 │ 📈 lr:  5.63e-05 │ ⚡    0 samples/s\n",
      "🔄 iter:     29 │ 📊 samples:      240 │ 📉 loss:  2.8502 │ 📈 lr:  5.63e-05 │ ⚡    0 samples/s\n",
      "🔄 iter:     30 │ 📊 samples:      248 │ 📉 loss:  2.7831 │ 📈 lr:  5.63e-05 │ ⚡    1 samples/s\n",
      "🔄 iter:     31 │ 📊 samples:      256 │ 📉 loss:  2.7108 │ 📈 lr:  5.63e-05 │ ⚡    0 samples/s\n",
      "🔄 iter:     32 │ 📊 samples:      264 │ 📉 loss:  2.7060 │ 📈 lr:  5.63e-05 │ ⚡    1 samples/s\n",
      "🔄 iter:     33 │ 📊 samples:      272 │ 📉 loss:  2.6601 │ 📈 lr:  5.63e-05 │ ⚡    0 samples/s\n",
      "🔄 iter:     34 │ 📊 samples:      280 │ 📉 loss:  2.7261 │ 📈 lr:  5.63e-05 │ ⚡    0 samples/s\n",
      "🔄 iter:     35 │ 📊 samples:      288 │ 📉 loss:  2.7447 │ 📈 lr:  5.63e-05 │ ⚡    0 samples/s\n"
     ]
    }
   ],
   "source": [
    "trainer.train(N_SAMPLES_TRAIN)"
   ]
  },
  {
   "cell_type": "code",
   "execution_count": null,
   "id": "e9a4d593",
   "metadata": {},
   "outputs": [],
   "source": []
  }
 ],
 "metadata": {
  "kernelspec": {
   "display_name": "gpt2-fine-tune",
   "language": "python",
   "name": "python3"
  },
  "language_info": {
   "codemirror_mode": {
    "name": "ipython",
    "version": 3
   },
   "file_extension": ".py",
   "mimetype": "text/x-python",
   "name": "python",
   "nbconvert_exporter": "python",
   "pygments_lexer": "ipython3",
   "version": "3.11.1"
  }
 },
 "nbformat": 4,
 "nbformat_minor": 5
}
