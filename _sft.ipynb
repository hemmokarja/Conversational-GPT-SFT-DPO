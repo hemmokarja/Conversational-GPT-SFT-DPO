{
 "cells": [
  {
   "cell_type": "code",
   "execution_count": 1,
   "id": "3f97b05f",
   "metadata": {},
   "outputs": [
    {
     "name": "stderr",
     "output_type": "stream",
     "text": [
      "/Users/hemmo.karja/Desktop/Omat/projects/GPT2-Fine-Tune/.venv/lib/python3.11/site-packages/tqdm/auto.py:21: TqdmWarning: IProgress not found. Please update jupyter and ipywidgets. See https://ipywidgets.readthedocs.io/en/stable/user_install.html\n",
      "  from .autonotebook import tqdm as notebook_tqdm\n"
     ]
    }
   ],
   "source": [
    "import logging\n",
    "\n",
    "import torch\n",
    "from transformers import GPT2Tokenizer\n",
    "\n",
    "from src import oasst, text_util\n",
    "from src.model import GPT2, LoRAConfig\n",
    "from src.trainer import Trainer, TrainerConfig\n",
    "\n",
    "logging.basicConfig(level=logging.INFO)\n",
    "\n",
    "DEVICE = torch.device(\"cuda\" if torch.cuda.is_available() else \"cpu\")"
   ]
  },
  {
   "cell_type": "code",
   "execution_count": null,
   "id": "af2d0b56",
   "metadata": {},
   "outputs": [],
   "source": [
    "N_SAMPLES_TRAIN = 1_000\n",
    "\n",
    "lora_config = LoRAConfig(r=8, alpha=32)\n",
    "\n",
    "trainer_config = TrainerConfig(\n",
    "    batch_size=8,\n",
    "    gradient_acc_steps=1,\n",
    "    validation_samples=100,\n",
    "    validation_interval=100,\n",
    "    sample_prompts=[\n",
    "        \"Hello, how are you?\",\n",
    "        \"What's the best city for sun bathing?\",\n",
    "        \"What does an architect do?\"\n",
    "    ],\n",
    "    log_interval=8,\n",
    "    compile=False,\n",
    "    base_learning_rate=3e-4,\n",
    "    min_learning_rate=1e-6,\n",
    "    lr_step_size=50_000_000,\n",
    "    lr_gamma=0.33,\n",
    "    weight_decay=1e-5,\n",
    "    betas=(0.9, 0.95),\n",
    "    grad_clip=None,\n",
    "    num_workers=0,\n",
    "    prefetch_factor=None,\n",
    "    pin_memory=False\n",
    ")"
   ]
  },
  {
   "cell_type": "code",
   "execution_count": 3,
   "id": "3a360db0",
   "metadata": {},
   "outputs": [],
   "source": [
    "tokenizer = GPT2Tokenizer.from_pretrained(\"gpt2\")\n",
    "text_util.add_pad_token_to_tokenizer(tokenizer)\n",
    "text_util.add_chatml_tokens_to_tokenizer(tokenizer)"
   ]
  },
  {
   "cell_type": "code",
   "execution_count": 4,
   "id": "3fb297a4",
   "metadata": {},
   "outputs": [
    {
     "name": "stdout",
     "output_type": "stream",
     "text": [
      "Extracted and parsed 20147 conversations\n",
      "Extracted and parsed 1002 conversations\n"
     ]
    }
   ],
   "source": [
    "train_dataset, validation_dataset = oasst.load_oasst_dataset(\"oasst1\", tokenizer)"
   ]
  },
  {
   "cell_type": "code",
   "execution_count": 5,
   "id": "4fbdf76e",
   "metadata": {},
   "outputs": [
    {
     "name": "stderr",
     "output_type": "stream",
     "text": [
      "INFO:src.model:Initializing a pre-trained gpt2 model...\n",
      "INFO:src.model:Initialized GPT with 124.44 M parameters (of which 38.60 M in embeddings)\n",
      "INFO:src.model:Loading pre-trained weights from HuggingFace...\n"
     ]
    }
   ],
   "source": [
    "model = GPT2.from_pretrained(\"gpt2\")"
   ]
  },
  {
   "cell_type": "code",
   "execution_count": 6,
   "id": "da4b3b6f",
   "metadata": {},
   "outputs": [
    {
     "name": "stderr",
     "output_type": "stream",
     "text": [
      "INFO:src.model:Initialized GPT with 124.44 M parameters (of which 38.60 M in embeddings)\n",
      "INFO:src.model:Extended token embeddings: 50257 -> 50260\n",
      "INFO:src.model:Set padding embedding at index 50257 to zero\n",
      "INFO:src.model:Initialized LoRA layers for modules: ['c_attn', 'c_proj', 'c_fc']\n",
      "INFO:src.model:Registered selective gradient hook for 2 new tokens\n",
      "INFO:src.model:Applied selective parameter freezing for LoRA and new token embeddings\n",
      "INFO:src.model:LoRA initialized: num. of parameters requiring gradient computation: 124.44 M -> 39.78 M\n"
     ]
    }
   ],
   "source": [
    "fine_tuneable = model.to_fine_tuneable()\n",
    "init_from_index = tokenizer.encode(\"\\n\")[0]  # init new embs with \\n emb\n",
    "fine_tuneable.extend_vocabulary(len(tokenizer), init_from_index)\n",
    "fine_tuneable.set_padding_token(tokenizer.pad_token_id)\n",
    "fine_tuneable.apply_lora(lora_config)"
   ]
  },
  {
   "cell_type": "code",
   "execution_count": 7,
   "id": "0610b6b4",
   "metadata": {},
   "outputs": [],
   "source": [
    "trainer =  Trainer(\n",
    "    trainer_config, fine_tuneable, tokenizer, train_dataset, validation_dataset, DEVICE\n",
    ")"
   ]
  },
  {
   "cell_type": "markdown",
   "id": "8aaf3caa",
   "metadata": {},
   "source": [
    "# Debug"
   ]
  },
  {
   "cell_type": "code",
   "execution_count": 8,
   "id": "49f04425",
   "metadata": {},
   "outputs": [
    {
     "name": "stderr",
     "output_type": "stream",
     "text": [
      "INFO:src.trainer:Staring model training for 1000 samples...\n"
     ]
    },
    {
     "name": "stdout",
     "output_type": "stream",
     "text": [
      "🔄 iter:      0 │ 📊 samples:        8 │ 📉 loss: 103.7915 │ 📈 lr:  3.00e-04 │ ⚡    1 samples/s\n",
      "🔄 iter:      1 │ 📊 samples:       16 │ 📉 loss: 99.3314 │ 📈 lr:  3.00e-04 │ ⚡    1 samples/s\n",
      "🔄 iter:      2 │ 📊 samples:       24 │ 📉 loss: 96.7058 │ 📈 lr:  3.00e-04 │ ⚡    1 samples/s\n",
      "🔄 iter:      3 │ 📊 samples:       32 │ 📉 loss: 94.4074 │ 📈 lr:  3.00e-04 │ ⚡    2 samples/s\n",
      "🔄 iter:      4 │ 📊 samples:       40 │ 📉 loss: 91.7139 │ 📈 lr:  3.00e-04 │ ⚡    2 samples/s\n",
      "🔄 iter:      5 │ 📊 samples:       48 │ 📉 loss: 89.5895 │ 📈 lr:  3.00e-04 │ ⚡    1 samples/s\n",
      "🔄 iter:      6 │ 📊 samples:       56 │ 📉 loss: 86.4960 │ 📈 lr:  3.00e-04 │ ⚡    1 samples/s\n",
      "🔄 iter:      7 │ 📊 samples:       64 │ 📉 loss: 82.8014 │ 📈 lr:  3.00e-04 │ ⚡    1 samples/s\n",
      "🔄 iter:      8 │ 📊 samples:       72 │ 📉 loss: 75.3876 │ 📈 lr:  3.00e-04 │ ⚡    1 samples/s\n",
      "🔄 iter:      9 │ 📊 samples:       80 │ 📉 loss: 66.9635 │ 📈 lr:  3.00e-04 │ ⚡    1 samples/s\n",
      "🔄 iter:     10 │ 📊 samples:       88 │ 📉 loss: 57.4729 │ 📈 lr:  3.00e-04 │ ⚡    1 samples/s\n",
      "🔄 iter:     11 │ 📊 samples:       96 │ 📉 loss: 47.7847 │ 📈 lr:  3.00e-04 │ ⚡    1 samples/s\n",
      "🔄 iter:     12 │ 📊 samples:      104 │ 📉 loss: 38.4849 │ 📈 lr:  3.00e-04 │ ⚡    2 samples/s\n",
      "\n",
      "================================================================================\n",
      "VALIDATION RESULTS\n",
      "================================================================================\n",
      "📊 METRICS (samples seen: 104)\n",
      "----------------------------------------\n",
      "  Loss:       7.5021\n",
      "  Accuracy:   33.8%\n",
      "  Perplexity: 5050.82\n",
      "\n",
      "🤖 SAMPLE COMPLETIONS\n",
      "----------------------------------------\n",
      "\n",
      "[Sample 1]\n",
      "Prompt: Hello, how are you?\n",
      "Response: userHello\n",
      "------------------------------\n",
      "\n",
      "[Sample 2]\n",
      "Prompt: What's the best city for culinarists?\n",
      "Response: newyorkers\n",
      "\n",
      "New York City<|endoftext|>A year ago, when I was still an undergraduate.\n",
      "\n",
      "================================================================================\n",
      "\n",
      "🔄 iter:     13 │ 📊 samples:      112 │ 📉 loss: 29.4755 │ 📈 lr:  3.00e-04 │ ⚡    0 samples/s\n",
      "🔄 iter:     14 │ 📊 samples:      120 │ 📉 loss: 21.7691 │ 📈 lr:  3.00e-04 │ ⚡    1 samples/s\n",
      "🔄 iter:     15 │ 📊 samples:      128 │ 📉 loss: 15.2850 │ 📈 lr:  3.00e-04 │ ⚡    1 samples/s\n",
      "🔄 iter:     16 │ 📊 samples:      136 │ 📉 loss: 10.4033 │ 📈 lr:  3.00e-04 │ ⚡    2 samples/s\n",
      "🔄 iter:     17 │ 📊 samples:      144 │ 📉 loss:  7.7173 │ 📈 lr:  3.00e-04 │ ⚡    1 samples/s\n",
      "🔄 iter:     18 │ 📊 samples:      152 │ 📉 loss:  6.5140 │ 📈 lr:  3.00e-04 │ ⚡    1 samples/s\n",
      "🔄 iter:     19 │ 📊 samples:      160 │ 📉 loss:  6.0315 │ 📈 lr:  3.00e-04 │ ⚡    1 samples/s\n",
      "🔄 iter:     20 │ 📊 samples:      168 │ 📉 loss:  5.9402 │ 📈 lr:  3.00e-04 │ ⚡    1 samples/s\n",
      "🔄 iter:     21 │ 📊 samples:      176 │ 📉 loss:  5.9288 │ 📈 lr:  3.00e-04 │ ⚡    1 samples/s\n",
      "🔄 iter:     22 │ 📊 samples:      184 │ 📉 loss:  5.9551 │ 📈 lr:  3.00e-04 │ ⚡    1 samples/s\n",
      "🔄 iter:     23 │ 📊 samples:      192 │ 📉 loss:  6.1888 │ 📈 lr:  3.00e-04 │ ⚡    2 samples/s\n",
      "🔄 iter:     24 │ 📊 samples:      200 │ 📉 loss:  6.3280 │ 📈 lr:  3.00e-04 │ ⚡    2 samples/s\n",
      "🔄 iter:     25 │ 📊 samples:      208 │ 📉 loss:  6.4325 │ 📈 lr:  3.00e-04 │ ⚡    1 samples/s\n",
      "🔄 iter:     26 │ 📊 samples:      216 │ 📉 loss:  6.4774 │ 📈 lr:  3.00e-04 │ ⚡    1 samples/s\n",
      "🔄 iter:     27 │ 📊 samples:      224 │ 📉 loss:  6.4968 │ 📈 lr:  3.00e-04 │ ⚡    1 samples/s\n",
      "🔄 iter:     28 │ 📊 samples:      232 │ 📉 loss:  6.5381 │ 📈 lr:  3.00e-04 │ ⚡    1 samples/s\n",
      "🔄 iter:     29 │ 📊 samples:      240 │ 📉 loss:  6.5028 │ 📈 lr:  3.00e-04 │ ⚡    1 samples/s\n",
      "🔄 iter:     30 │ 📊 samples:      248 │ 📉 loss:  6.3513 │ 📈 lr:  3.00e-04 │ ⚡    1 samples/s\n",
      "🔄 iter:     31 │ 📊 samples:      256 │ 📉 loss:  6.2143 │ 📈 lr:  3.00e-04 │ ⚡    1 samples/s\n",
      "🔄 iter:     32 │ 📊 samples:      264 │ 📉 loss:  6.1261 │ 📈 lr:  3.00e-04 │ ⚡    1 samples/s\n",
      "🔄 iter:     33 │ 📊 samples:      272 │ 📉 loss:  5.8650 │ 📈 lr:  3.00e-04 │ ⚡    1 samples/s\n",
      "🔄 iter:     34 │ 📊 samples:      280 │ 📉 loss:  5.7477 │ 📈 lr:  3.00e-04 │ ⚡    1 samples/s\n",
      "🔄 iter:     35 │ 📊 samples:      288 │ 📉 loss:  5.6364 │ 📈 lr:  3.00e-04 │ ⚡    2 samples/s\n",
      "🔄 iter:     36 │ 📊 samples:      296 │ 📉 loss:  5.4848 │ 📈 lr:  3.00e-04 │ ⚡    1 samples/s\n",
      "🔄 iter:     37 │ 📊 samples:      304 │ 📉 loss:  5.3129 │ 📈 lr:  3.00e-04 │ ⚡    2 samples/s\n",
      "🔄 iter:     38 │ 📊 samples:      312 │ 📉 loss:  5.2516 │ 📈 lr:  3.00e-04 │ ⚡    1 samples/s\n",
      "🔄 iter:     39 │ 📊 samples:      320 │ 📉 loss:  5.0865 │ 📈 lr:  3.00e-04 │ ⚡    1 samples/s\n",
      "🔄 iter:     40 │ 📊 samples:      328 │ 📉 loss:  4.9380 │ 📈 lr:  3.00e-04 │ ⚡    1 samples/s\n",
      "🔄 iter:     41 │ 📊 samples:      336 │ 📉 loss:  4.9083 │ 📈 lr:  3.00e-04 │ ⚡    1 samples/s\n",
      "🔄 iter:     42 │ 📊 samples:      344 │ 📉 loss:  4.7670 │ 📈 lr:  3.00e-04 │ ⚡    1 samples/s\n",
      "🔄 iter:     43 │ 📊 samples:      352 │ 📉 loss:  4.5826 │ 📈 lr:  3.00e-04 │ ⚡    1 samples/s\n",
      "🔄 iter:     44 │ 📊 samples:      360 │ 📉 loss:  4.4675 │ 📈 lr:  3.00e-04 │ ⚡    1 samples/s\n",
      "🔄 iter:     45 │ 📊 samples:      368 │ 📉 loss:  4.2536 │ 📈 lr:  3.00e-04 │ ⚡    1 samples/s\n",
      "🔄 iter:     46 │ 📊 samples:      376 │ 📉 loss:  4.1448 │ 📈 lr:  3.00e-04 │ ⚡    1 samples/s\n"
     ]
    },
    {
     "ename": "KeyboardInterrupt",
     "evalue": "",
     "output_type": "error",
     "traceback": [
      "\u001b[31m---------------------------------------------------------------------------\u001b[39m",
      "\u001b[31mKeyboardInterrupt\u001b[39m                         Traceback (most recent call last)",
      "\u001b[36mCell\u001b[39m\u001b[36m \u001b[39m\u001b[32mIn[8]\u001b[39m\u001b[32m, line 1\u001b[39m\n\u001b[32m----> \u001b[39m\u001b[32m1\u001b[39m \u001b[43mtrainer\u001b[49m\u001b[43m.\u001b[49m\u001b[43mtrain\u001b[49m\u001b[43m(\u001b[49m\u001b[43mN_SAMPLES_TRAIN\u001b[49m\u001b[43m)\u001b[49m\n",
      "\u001b[36mFile \u001b[39m\u001b[32m~/Desktop/Omat/projects/GPT2-Fine-Tune/src/trainer.py:303\u001b[39m, in \u001b[36mTrainer.train\u001b[39m\u001b[34m(self, n_samples)\u001b[39m\n\u001b[32m    300\u001b[39m t0 = time.time()\n\u001b[32m    302\u001b[39m \u001b[38;5;28;01mfor\u001b[39;00m i \u001b[38;5;129;01min\u001b[39;00m \u001b[38;5;28mrange\u001b[39m(n_iter):\n\u001b[32m--> \u001b[39m\u001b[32m303\u001b[39m     loss = \u001b[38;5;28;43mself\u001b[39;49m\u001b[43m.\u001b[49m\u001b[43m_take_optimisation_step\u001b[49m\u001b[43m(\u001b[49m\u001b[43m)\u001b[49m\n\u001b[32m    304\u001b[39m     recent_losses.append(loss)\n\u001b[32m    306\u001b[39m     \u001b[38;5;28;01mif\u001b[39;00m \u001b[38;5;28mself\u001b[39m._crossed_interval(\u001b[38;5;28mself\u001b[39m.config.log_interval):\n",
      "\u001b[36mFile \u001b[39m\u001b[32m~/Desktop/Omat/projects/GPT2-Fine-Tune/src/trainer.py:275\u001b[39m, in \u001b[36mTrainer._take_optimisation_step\u001b[39m\u001b[34m(self)\u001b[39m\n\u001b[32m    273\u001b[39m         _, loss = \u001b[38;5;28mself\u001b[39m.model(**batch)\n\u001b[32m    274\u001b[39m         loss = loss / \u001b[38;5;28mself\u001b[39m.config.gradient_acc_steps\n\u001b[32m--> \u001b[39m\u001b[32m275\u001b[39m         \u001b[43mloss\u001b[49m\u001b[43m.\u001b[49m\u001b[43mbackward\u001b[49m\u001b[43m(\u001b[49m\u001b[43m)\u001b[49m\n\u001b[32m    276\u001b[39m         total_loss += loss.item()\n\u001b[32m    278\u001b[39m \u001b[38;5;28;01mif\u001b[39;00m \u001b[38;5;28mself\u001b[39m.config.grad_clip \u001b[38;5;129;01mis\u001b[39;00m \u001b[38;5;129;01mnot\u001b[39;00m \u001b[38;5;28;01mNone\u001b[39;00m:\n",
      "\u001b[36mFile \u001b[39m\u001b[32m~/Desktop/Omat/projects/GPT2-Fine-Tune/.venv/lib/python3.11/site-packages/torch/_tensor.py:648\u001b[39m, in \u001b[36mTensor.backward\u001b[39m\u001b[34m(self, gradient, retain_graph, create_graph, inputs)\u001b[39m\n\u001b[32m    638\u001b[39m \u001b[38;5;28;01mif\u001b[39;00m has_torch_function_unary(\u001b[38;5;28mself\u001b[39m):\n\u001b[32m    639\u001b[39m     \u001b[38;5;28;01mreturn\u001b[39;00m handle_torch_function(\n\u001b[32m    640\u001b[39m         Tensor.backward,\n\u001b[32m    641\u001b[39m         (\u001b[38;5;28mself\u001b[39m,),\n\u001b[32m   (...)\u001b[39m\u001b[32m    646\u001b[39m         inputs=inputs,\n\u001b[32m    647\u001b[39m     )\n\u001b[32m--> \u001b[39m\u001b[32m648\u001b[39m \u001b[43mtorch\u001b[49m\u001b[43m.\u001b[49m\u001b[43mautograd\u001b[49m\u001b[43m.\u001b[49m\u001b[43mbackward\u001b[49m\u001b[43m(\u001b[49m\n\u001b[32m    649\u001b[39m \u001b[43m    \u001b[49m\u001b[38;5;28;43mself\u001b[39;49m\u001b[43m,\u001b[49m\u001b[43m \u001b[49m\u001b[43mgradient\u001b[49m\u001b[43m,\u001b[49m\u001b[43m \u001b[49m\u001b[43mretain_graph\u001b[49m\u001b[43m,\u001b[49m\u001b[43m \u001b[49m\u001b[43mcreate_graph\u001b[49m\u001b[43m,\u001b[49m\u001b[43m \u001b[49m\u001b[43minputs\u001b[49m\u001b[43m=\u001b[49m\u001b[43minputs\u001b[49m\n\u001b[32m    650\u001b[39m \u001b[43m\u001b[49m\u001b[43m)\u001b[49m\n",
      "\u001b[36mFile \u001b[39m\u001b[32m~/Desktop/Omat/projects/GPT2-Fine-Tune/.venv/lib/python3.11/site-packages/torch/autograd/__init__.py:353\u001b[39m, in \u001b[36mbackward\u001b[39m\u001b[34m(tensors, grad_tensors, retain_graph, create_graph, grad_variables, inputs)\u001b[39m\n\u001b[32m    348\u001b[39m     retain_graph = create_graph\n\u001b[32m    350\u001b[39m \u001b[38;5;66;03m# The reason we repeat the same comment below is that\u001b[39;00m\n\u001b[32m    351\u001b[39m \u001b[38;5;66;03m# some Python versions print out the first line of a multi-line function\u001b[39;00m\n\u001b[32m    352\u001b[39m \u001b[38;5;66;03m# calls in the traceback and some print out the last line\u001b[39;00m\n\u001b[32m--> \u001b[39m\u001b[32m353\u001b[39m \u001b[43m_engine_run_backward\u001b[49m\u001b[43m(\u001b[49m\n\u001b[32m    354\u001b[39m \u001b[43m    \u001b[49m\u001b[43mtensors\u001b[49m\u001b[43m,\u001b[49m\n\u001b[32m    355\u001b[39m \u001b[43m    \u001b[49m\u001b[43mgrad_tensors_\u001b[49m\u001b[43m,\u001b[49m\n\u001b[32m    356\u001b[39m \u001b[43m    \u001b[49m\u001b[43mretain_graph\u001b[49m\u001b[43m,\u001b[49m\n\u001b[32m    357\u001b[39m \u001b[43m    \u001b[49m\u001b[43mcreate_graph\u001b[49m\u001b[43m,\u001b[49m\n\u001b[32m    358\u001b[39m \u001b[43m    \u001b[49m\u001b[43minputs\u001b[49m\u001b[43m,\u001b[49m\n\u001b[32m    359\u001b[39m \u001b[43m    \u001b[49m\u001b[43mallow_unreachable\u001b[49m\u001b[43m=\u001b[49m\u001b[38;5;28;43;01mTrue\u001b[39;49;00m\u001b[43m,\u001b[49m\n\u001b[32m    360\u001b[39m \u001b[43m    \u001b[49m\u001b[43maccumulate_grad\u001b[49m\u001b[43m=\u001b[49m\u001b[38;5;28;43;01mTrue\u001b[39;49;00m\u001b[43m,\u001b[49m\n\u001b[32m    361\u001b[39m \u001b[43m\u001b[49m\u001b[43m)\u001b[49m\n",
      "\u001b[36mFile \u001b[39m\u001b[32m~/Desktop/Omat/projects/GPT2-Fine-Tune/.venv/lib/python3.11/site-packages/torch/autograd/graph.py:824\u001b[39m, in \u001b[36m_engine_run_backward\u001b[39m\u001b[34m(t_outputs, *args, **kwargs)\u001b[39m\n\u001b[32m    822\u001b[39m     unregister_hooks = _register_logging_hooks_on_whole_graph(t_outputs)\n\u001b[32m    823\u001b[39m \u001b[38;5;28;01mtry\u001b[39;00m:\n\u001b[32m--> \u001b[39m\u001b[32m824\u001b[39m     \u001b[38;5;28;01mreturn\u001b[39;00m \u001b[43mVariable\u001b[49m\u001b[43m.\u001b[49m\u001b[43m_execution_engine\u001b[49m\u001b[43m.\u001b[49m\u001b[43mrun_backward\u001b[49m\u001b[43m(\u001b[49m\u001b[43m  \u001b[49m\u001b[38;5;66;43;03m# Calls into the C++ engine to run the backward pass\u001b[39;49;00m\n\u001b[32m    825\u001b[39m \u001b[43m        \u001b[49m\u001b[43mt_outputs\u001b[49m\u001b[43m,\u001b[49m\u001b[43m \u001b[49m\u001b[43m*\u001b[49m\u001b[43margs\u001b[49m\u001b[43m,\u001b[49m\u001b[43m \u001b[49m\u001b[43m*\u001b[49m\u001b[43m*\u001b[49m\u001b[43mkwargs\u001b[49m\n\u001b[32m    826\u001b[39m \u001b[43m    \u001b[49m\u001b[43m)\u001b[49m  \u001b[38;5;66;03m# Calls into the C++ engine to run the backward pass\u001b[39;00m\n\u001b[32m    827\u001b[39m \u001b[38;5;28;01mfinally\u001b[39;00m:\n\u001b[32m    828\u001b[39m     \u001b[38;5;28;01mif\u001b[39;00m attach_logging_hooks:\n",
      "\u001b[36mFile \u001b[39m\u001b[32m~/Desktop/Omat/projects/GPT2-Fine-Tune/src/model.py:567\u001b[39m, in \u001b[36mFineTuneableGPT2._register_selective_embedding_hook.<locals>.selective_embedding_hook\u001b[39m\u001b[34m(grad)\u001b[39m\n\u001b[32m    562\u001b[39m \u001b[38;5;28;01mdef\u001b[39;00m\u001b[38;5;250m \u001b[39m\u001b[34m_register_selective_embedding_hook\u001b[39m(\u001b[38;5;28mself\u001b[39m):\n\u001b[32m    563\u001b[39m \u001b[38;5;250m    \u001b[39m\u001b[33;03m\"\"\"\u001b[39;00m\n\u001b[32m    564\u001b[39m \u001b[33;03m    Register a backward hook to selectively compute gradients only for new token\u001b[39;00m\n\u001b[32m    565\u001b[39m \u001b[33;03m    embeddings (excluding padding token)\u001b[39;00m\n\u001b[32m    566\u001b[39m \u001b[33;03m    \"\"\"\u001b[39;00m\n\u001b[32m--> \u001b[39m\u001b[32m567\u001b[39m     \u001b[38;5;28;01mdef\u001b[39;00m\u001b[38;5;250m \u001b[39m\u001b[34mselective_embedding_hook\u001b[39m(grad):\n\u001b[32m    568\u001b[39m         \u001b[38;5;28;01mif\u001b[39;00m grad \u001b[38;5;129;01mis\u001b[39;00m \u001b[38;5;28;01mNone\u001b[39;00m:\n\u001b[32m    569\u001b[39m             \u001b[38;5;28;01mreturn\u001b[39;00m grad\n",
      "\u001b[31mKeyboardInterrupt\u001b[39m: "
     ]
    }
   ],
   "source": [
    "trainer.train(N_SAMPLES_TRAIN)"
   ]
  }
 ],
 "metadata": {
  "kernelspec": {
   "display_name": "gpt2-fine-tune",
   "language": "python",
   "name": "python3"
  },
  "language_info": {
   "codemirror_mode": {
    "name": "ipython",
    "version": 3
   },
   "file_extension": ".py",
   "mimetype": "text/x-python",
   "name": "python",
   "nbconvert_exporter": "python",
   "pygments_lexer": "ipython3",
   "version": "3.11.1"
  }
 },
 "nbformat": 4,
 "nbformat_minor": 5
}
